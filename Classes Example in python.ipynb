{
 "cells": [
  {
   "cell_type": "markdown",
   "id": "58e8f455",
   "metadata": {},
   "source": [
    "### Muhammad Musab\n",
    "### Fa24-bbd-063"
   ]
  },
  {
   "cell_type": "code",
   "execution_count": 3,
   "id": "8df63b34",
   "metadata": {},
   "outputs": [
    {
     "name": "stdout",
     "output_type": "stream",
     "text": [
      "Hello, my name is Musab, I'm 18 years old and I live in Lahore.\n"
     ]
    }
   ],
   "source": [
    "## Question no 1\n",
    "class Person:\n",
    "    def __init__(self, name, age, city):\n",
    "        self.name = name\n",
    "        self.age = age\n",
    "        self.city = city\n",
    "\n",
    "    def person(self):\n",
    "        return f\"Hello, my name is {self.name}, I'm {self.age} years old and I live in {self.city}.\"\n",
    "\n",
    "person1 = Person(\"Musab\", 18, \"Lahore\")\n",
    "print(person1.person())"
   ]
  },
  {
   "cell_type": "code",
   "execution_count": 4,
   "id": "c5a8c47d",
   "metadata": {},
   "outputs": [
    {
     "name": "stdout",
     "output_type": "stream",
     "text": [
      "honda,city,2020.\n"
     ]
    }
   ],
   "source": [
    "## Question no 2\n",
    "class car:\n",
    "    def __init__(self, make, model, year):\n",
    "        self.make = make\n",
    "        self.model =model\n",
    "        self.year =year\n",
    "\n",
    "    def cars(self):\n",
    "        return f\"{self.make},{self.model},{self.year}.\"\n",
    "\n",
    "car1 =car(\"honda\",\"city\", \"2020\")\n",
    "print(car1.cars())"
   ]
  },
  {
   "cell_type": "code",
   "execution_count": 5,
   "id": "f19901a3",
   "metadata": {},
   "outputs": [
    {
     "name": "stdout",
     "output_type": "stream",
     "text": [
      "50.24\n",
      "25.12\n"
     ]
    }
   ],
   "source": [
    "## Question no 3\n",
    "class Circle:\n",
    "    def __init__(self, radius):\n",
    "        self.radius = radius\n",
    "\n",
    "    def area(self):\n",
    "        return 3.14 * self.radius * self.radius\n",
    "\n",
    "    def circumference(self):\n",
    "        return 2 * 3.14 * self.radius\n",
    "\n",
    "circle1 = Circle(4)\n",
    "print(circle1.area())\n",
    "print(circle1.circumference())\n"
   ]
  },
  {
   "cell_type": "code",
   "execution_count": 6,
   "id": "7d793415",
   "metadata": {},
   "outputs": [
    {
     "name": "stdout",
     "output_type": "stream",
     "text": [
      "24\n",
      "20\n"
     ]
    }
   ],
   "source": [
    "## Question no 4\n",
    "class Rectangle:\n",
    "    def __init__(self, length, width):\n",
    "        self.length = length\n",
    "        self.width = width\n",
    "\n",
    "    def area(self):\n",
    "        return self.length * self.width\n",
    "\n",
    "    def perimeter(self):\n",
    "        return 2 * (self.length + self.width)\n",
    "\n",
    "rectangle1 = Rectangle(4, 6)\n",
    "print(rectangle1.area())\n",
    "print(rectangle1.perimeter())\n"
   ]
  },
  {
   "cell_type": "code",
   "execution_count": 7,
   "id": "e1f87588",
   "metadata": {},
   "outputs": [
    {
     "name": "stdout",
     "output_type": "stream",
     "text": [
      "86.25\n"
     ]
    }
   ],
   "source": [
    "## Question no 5\n",
    "class Student:\n",
    "    def __init__(self, name, roll_number, marks):\n",
    "        self.name = name\n",
    "        self.roll_number = roll_number\n",
    "        self.marks = marks\n",
    "\n",
    "    def average_marks(self):\n",
    "        return sum(self.marks) / len(self.marks)\n",
    "\n",
    "student1 = Student(\"MUSAB\", 101, [85, 90, 78, 92])\n",
    "print(student1.average_marks())\n"
   ]
  },
  {
   "cell_type": "code",
   "execution_count": 8,
   "id": "117a9fea",
   "metadata": {},
   "outputs": [
    {
     "name": "stdout",
     "output_type": "stream",
     "text": [
      "To Kill a Mockingbird\n",
      "Harper Lee\n",
      "1960\n"
     ]
    }
   ],
   "source": [
    "## Question no 6\n",
    "class Book:\n",
    "    def __init__(self, title, author, publication_year):\n",
    "        self.title = title\n",
    "        self.author = author\n",
    "        self.publication_year = publication_year\n",
    "\n",
    "book1 = Book(\"To Kill a Mockingbird\", \"Harper Lee\", 1960)\n",
    "print(book1.title)\n",
    "print(book1.author)\n",
    "print(book1.publication_year)\n"
   ]
  },
  {
   "cell_type": "code",
   "execution_count": 9,
   "id": "9c37432c",
   "metadata": {},
   "outputs": [
    {
     "name": "stdout",
     "output_type": "stream",
     "text": [
      "musab\n",
      "50000\n",
      "Software Engineer\n"
     ]
    }
   ],
   "source": [
    "## Question no 7\n",
    "class Employee:\n",
    "    def __init__(self, name, salary, designation):\n",
    "        self.name = name\n",
    "        self.salary = salary\n",
    "        self.designation = designation\n",
    "\n",
    "employee1 = Employee(\"musab\", 50000, \"Software Engineer\")\n",
    "print(employee1.name)\n",
    "print(employee1.salary)\n",
    "print(employee1.designation)\n"
   ]
  },
  {
   "cell_type": "code",
   "execution_count": 10,
   "id": "a36e4e1d",
   "metadata": {},
   "outputs": [
    {
     "name": "stdout",
     "output_type": "stream",
     "text": [
      "Deposited 500. New balance: 1500\n",
      "Withdrew 300. New balance: 1200\n",
      "Insufficient balance\n"
     ]
    }
   ],
   "source": [
    "## Question no 8\n",
    "class Bank:\n",
    "    def __init__(self, name, account_number, balance=0):\n",
    "        self.name = name\n",
    "        self.account_number = account_number\n",
    "        self.balance = balance\n",
    "\n",
    "    def deposit(self, amount):\n",
    "        self.balance += amount\n",
    "        print(f\"Deposited {amount}. New balance: {self.balance}\")\n",
    "\n",
    "    def withdraw(self, amount):\n",
    "        if amount <= self.balance:\n",
    "            self.balance -= amount\n",
    "            print(f\"Withdrew {amount}. New balance: {self.balance}\")\n",
    "        else:\n",
    "            print(\"Insufficient balance\")\n",
    "account = Bank(\"John Doe\", 123456789, 1000)\n",
    "account.deposit(500)\n",
    "account.withdraw(300)\n",
    "account.withdraw(1500)\n"
   ]
  }
 ],
 "metadata": {
  "kernelspec": {
   "display_name": "base",
   "language": "python",
   "name": "python3"
  },
  "language_info": {
   "codemirror_mode": {
    "name": "ipython",
    "version": 3
   },
   "file_extension": ".py",
   "mimetype": "text/x-python",
   "name": "python",
   "nbconvert_exporter": "python",
   "pygments_lexer": "ipython3",
   "version": "3.12.4"
  }
 },
 "nbformat": 4,
 "nbformat_minor": 5
}
